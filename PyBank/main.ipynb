{
 "cells": [
  {
   "cell_type": "code",
   "execution_count": 147,
   "metadata": {},
   "outputs": [],
   "source": [
    "# Import Dependencies\n",
    "import pandas as pd\n",
    "from pathlib import Path"
   ]
  },
  {
   "cell_type": "code",
   "execution_count": 148,
   "metadata": {},
   "outputs": [],
   "source": [
    "# Format Data Frame\n",
    "pd.set_option('display.max_colwidth', None)"
   ]
  },
  {
   "cell_type": "code",
   "execution_count": 149,
   "metadata": {},
   "outputs": [],
   "source": [
    "# Store file path\n",
    "budget = Path(\"Resources/budget_data.csv\")"
   ]
  },
  {
   "cell_type": "code",
   "execution_count": 150,
   "metadata": {},
   "outputs": [],
   "source": [
    "# Read data file with Pandas\n",
    "budget_df = pd.read_csv(budget)"
   ]
  },
  {
   "cell_type": "code",
   "execution_count": 151,
   "metadata": {},
   "outputs": [],
   "source": [
    " # Count number of months\n",
    "months_total = budget_df[\"Date\"].count()"
   ]
  },
  {
   "cell_type": "code",
   "execution_count": 152,
   "metadata": {},
   "outputs": [],
   "source": [
    "# Add total amount of profit/loss\n",
    "profit_loss_total = budget_df[\"Profit/Losses\"].sum()"
   ]
  },
  {
   "cell_type": "code",
   "execution_count": 153,
   "metadata": {},
   "outputs": [],
   "source": [
    "# Pull first and last profit/loss values\n",
    "profit_first = budget_df.iloc[0, 1]\n",
    "profit_last = budget_df.iloc[85, 1]\n"
   ]
  },
  {
   "cell_type": "code",
   "execution_count": 154,
   "metadata": {},
   "outputs": [],
   "source": [
    "# Calculate average change in profit/loss\n",
    "total_change = profit_last - profit_first\n",
    "\n",
    "average_change = total_change / (months_total - 1)\n"
   ]
  },
  {
   "cell_type": "code",
   "execution_count": 155,
   "metadata": {},
   "outputs": [],
   "source": [
    "# Sort data frame by profit/loss\n",
    "profit_df = budget_df.sort_values(by=\"Profit/Losses\", ascending=False)\n"
   ]
  },
  {
   "cell_type": "code",
   "execution_count": 156,
   "metadata": {},
   "outputs": [],
   "source": [
    "# Identify Min and Max Values\n",
    "max_profit = profit_df.iloc[0, :]\n",
    "min_profit = profit_df.iloc[85, :]"
   ]
  },
  {
   "cell_type": "code",
   "execution_count": 157,
   "metadata": {},
   "outputs": [
    {
     "data": {
      "text/html": [
       "<div>\n",
       "<style scoped>\n",
       "    .dataframe tbody tr th:only-of-type {\n",
       "        vertical-align: middle;\n",
       "    }\n",
       "\n",
       "    .dataframe tbody tr th {\n",
       "        vertical-align: top;\n",
       "    }\n",
       "\n",
       "    .dataframe thead th {\n",
       "        text-align: right;\n",
       "    }\n",
       "</style>\n",
       "<table border=\"1\" class=\"dataframe\">\n",
       "  <thead>\n",
       "    <tr style=\"text-align: right;\">\n",
       "      <th></th>\n",
       "      <th>Data Type</th>\n",
       "      <th>Value</th>\n",
       "    </tr>\n",
       "  </thead>\n",
       "  <tbody>\n",
       "    <tr>\n",
       "      <th>0</th>\n",
       "      <td>Total Months</td>\n",
       "      <td>86</td>\n",
       "    </tr>\n",
       "    <tr>\n",
       "      <th>1</th>\n",
       "      <td>Total</td>\n",
       "      <td>22564198</td>\n",
       "    </tr>\n",
       "    <tr>\n",
       "      <th>2</th>\n",
       "      <td>Average Change</td>\n",
       "      <td>-8311.11</td>\n",
       "    </tr>\n",
       "    <tr>\n",
       "      <th>3</th>\n",
       "      <td>Greatest Increase in Profits</td>\n",
       "      <td>Date              Mar-13\n",
       "Profit/Losses    1141840\n",
       "Name: 38, dtype: object</td>\n",
       "    </tr>\n",
       "    <tr>\n",
       "      <th>4</th>\n",
       "      <td>Greatest Decrease in Profit</td>\n",
       "      <td>Date               Dec-10\n",
       "Profit/Losses    -1194133\n",
       "Name: 11, dtype: object</td>\n",
       "    </tr>\n",
       "  </tbody>\n",
       "</table>\n",
       "</div>"
      ],
      "text/plain": [
       "                      Data Type  \\\n",
       "0                  Total Months   \n",
       "1                         Total   \n",
       "2                Average Change   \n",
       "3  Greatest Increase in Profits   \n",
       "4   Greatest Decrease in Profit   \n",
       "\n",
       "                                                                         Value  \n",
       "0                                                                           86  \n",
       "1                                                                     22564198  \n",
       "2                                                                     -8311.11  \n",
       "3    Date              Mar-13\n",
       "Profit/Losses    1141840\n",
       "Name: 38, dtype: object  \n",
       "4  Date               Dec-10\n",
       "Profit/Losses    -1194133\n",
       "Name: 11, dtype: object  "
      ]
     },
     "execution_count": 157,
     "metadata": {},
     "output_type": "execute_result"
    }
   ],
   "source": [
    "# Create new data frame\n",
    "analysis_df = pd.DataFrame([\n",
    "    {\"Data Type\": \"Total Months\", \"Value\": months_total},\n",
    "    {\"Data Type\": \"Total\", \"Value\": profit_loss_total},\n",
    "    {\"Data Type\": \"Average Change\", \"Value\": average_change},\n",
    "    {\"Data Type\": \"Greatest Increase in Profits\", \"Value\": max_profit},\n",
    "    {\"Data Type\": \"Greatest Decrease in Profit\", \"Value\": min_profit}\n",
    "])\n",
    "\n",
    "analysis_df"
   ]
  },
  {
   "cell_type": "code",
   "execution_count": 158,
   "metadata": {},
   "outputs": [
    {
     "name": "stdout",
     "output_type": "stream",
     "text": [
      "                      Data Type  \\\n",
      "0                  Total Months   \n",
      "1                         Total   \n",
      "2                Average Change   \n",
      "3  Greatest Increase in Profits   \n",
      "4   Greatest Decrease in Profit   \n",
      "\n",
      "                                                                         Value  \n",
      "0                                                                           86  \n",
      "1                                                                     22564198  \n",
      "2                                                                     -8311.11  \n",
      "3    Date              Mar-13\n",
      "Profit/Losses    1141840\n",
      "Name: 38, dtype: object  \n",
      "4  Date               Dec-10\n",
      "Profit/Losses    -1194133\n",
      "Name: 11, dtype: object  \n"
     ]
    }
   ],
   "source": [
    "# Print analysis to terminal\n",
    "print(analysis_df)"
   ]
  },
  {
   "cell_type": "code",
   "execution_count": 159,
   "metadata": {},
   "outputs": [],
   "source": [
    "# Export to Text File\n",
    "analysis_df.to_csv('Analysis/analysis.txt', sep='\\t', index=False)"
   ]
  }
 ],
 "metadata": {
  "kernelspec": {
   "display_name": "Python_Data",
   "language": "python",
   "name": "python3"
  },
  "language_info": {
   "codemirror_mode": {
    "name": "ipython",
    "version": 3
   },
   "file_extension": ".py",
   "mimetype": "text/x-python",
   "name": "python",
   "nbconvert_exporter": "python",
   "pygments_lexer": "ipython3",
   "version": "3.7.7"
  },
  "orig_nbformat": 4
 },
 "nbformat": 4,
 "nbformat_minor": 2
}
