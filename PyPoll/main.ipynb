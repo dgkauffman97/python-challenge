{
 "cells": [
  {
   "cell_type": "code",
   "execution_count": 1,
   "metadata": {},
   "outputs": [],
   "source": [
    "# Import Dependencies\n",
    "import pandas as pd\n",
    "from pathlib import Path"
   ]
  },
  {
   "cell_type": "code",
   "execution_count": 2,
   "metadata": {},
   "outputs": [],
   "source": [
    "# Store file path\n",
    "election = Path(\"Resources/election_data.csv\")"
   ]
  },
  {
   "cell_type": "code",
   "execution_count": 3,
   "metadata": {},
   "outputs": [],
   "source": [
    "# Read data file with Pandas\n",
    "election_df = pd.read_csv(election)"
   ]
  },
  {
   "cell_type": "code",
   "execution_count": 4,
   "metadata": {},
   "outputs": [],
   "source": [
    "# Count ballots\n",
    "total_votes = election_df[\"Ballot ID\"].count()"
   ]
  },
  {
   "cell_type": "code",
   "execution_count": 5,
   "metadata": {},
   "outputs": [
    {
     "data": {
      "text/plain": [
       "array(['Charles Casper Stockham', 'Diana DeGette', 'Raymon Anthony Doane'],\n",
       "      dtype=object)"
      ]
     },
     "execution_count": 5,
     "metadata": {},
     "output_type": "execute_result"
    }
   ],
   "source": [
    "# Identify candidates\n",
    "election_df[\"Candidate\"].unique()"
   ]
  },
  {
   "cell_type": "code",
   "execution_count": 6,
   "metadata": {},
   "outputs": [],
   "source": [
    "# Count votes for Charles\n",
    "charles_df = election_df.loc[(election_df[\"Candidate\"] == \"Charles Casper Stockham\")]\n",
    "charles_votes = charles_df[\"Ballot ID\"].count()"
   ]
  },
  {
   "cell_type": "code",
   "execution_count": 7,
   "metadata": {},
   "outputs": [],
   "source": [
    "# Count votes for Diana\n",
    "diana_df = election_df.loc[(election_df[\"Candidate\"] == \"Diana DeGette\")]\n",
    "diana_votes = diana_df[\"Ballot ID\"].count()"
   ]
  },
  {
   "cell_type": "code",
   "execution_count": 8,
   "metadata": {},
   "outputs": [],
   "source": [
    "# Count votes for Raymon\n",
    "raymon_df = election_df.loc[(election_df[\"Candidate\"] == \"Raymon Anthony Doane\")]\n",
    "raymon_votes = raymon_df[\"Ballot ID\"].count()"
   ]
  },
  {
   "cell_type": "code",
   "execution_count": 9,
   "metadata": {},
   "outputs": [],
   "source": [
    "# Create results dataframe\n",
    "results_df = pd.DataFrame([\n",
    "    {\"Candidate\": \"Charles Casper Stockham\", \"Votes\": charles_votes},\n",
    "    {\"Candidate\": \"Diana DeGette\", \"Votes\": diana_votes},\n",
    "    {\"Candidate\": \"Raymon Anthony Doane\", \"Votes\": raymon_votes}\n",
    "])"
   ]
  },
  {
   "cell_type": "code",
   "execution_count": 10,
   "metadata": {},
   "outputs": [],
   "source": [
    "# Add column and calculate Percentage\n",
    "results_df[\"Percentage\"] = results_df[\"Votes\"] / total_votes\n",
    "results_df[\"Percentage\"] = results_df[\"Percentage\"] * 100"
   ]
  },
  {
   "cell_type": "code",
   "execution_count": 11,
   "metadata": {},
   "outputs": [
    {
     "name": "stdout",
     "output_type": "stream",
     "text": [
      "                 Candidate   Votes  Percentage\n",
      "0  Charles Casper Stockham   85213   23.048543\n",
      "1            Diana DeGette  272892   73.812248\n",
      "2     Raymon Anthony Doane   11606    3.139209\n"
     ]
    }
   ],
   "source": [
    "# Print results to terminal\n",
    "print(results_df)"
   ]
  },
  {
   "cell_type": "code",
   "execution_count": 12,
   "metadata": {},
   "outputs": [],
   "source": [
    "# Export to Text File\n",
    "results_df.to_csv('Analysis/results.txt', sep='\\t', index=False)"
   ]
  }
 ],
 "metadata": {
  "kernelspec": {
   "display_name": "Python_Data",
   "language": "python",
   "name": "python3"
  },
  "language_info": {
   "codemirror_mode": {
    "name": "ipython",
    "version": 3
   },
   "file_extension": ".py",
   "mimetype": "text/x-python",
   "name": "python",
   "nbconvert_exporter": "python",
   "pygments_lexer": "ipython3",
   "version": "3.7.7"
  },
  "orig_nbformat": 4
 },
 "nbformat": 4,
 "nbformat_minor": 2
}
